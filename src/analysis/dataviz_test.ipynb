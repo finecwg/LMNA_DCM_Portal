{
 "cells": [
  {
   "cell_type": "code",
   "execution_count": 3,
   "metadata": {},
   "outputs": [],
   "source": [
    "import scanpy as sc"
   ]
  },
  {
   "cell_type": "code",
   "execution_count": 3,
   "metadata": {},
   "outputs": [
    {
     "name": "stdout",
     "output_type": "stream",
     "text": [
      "/Users/helloworld/Desktop/LMNA_DCM_Portal\n"
     ]
    }
   ],
   "source": [
    "%cd /Users/helloworld/Desktop/LMNA_DCM_Portal"
   ]
  },
  {
   "cell_type": "code",
   "execution_count": 4,
   "metadata": {},
   "outputs": [
    {
     "name": "stdout",
     "output_type": "stream",
     "text": [
      "AnnData object with n_obs × n_vars = 29447 × 2000\n",
      "    obs: 'orig.ident', 'nCount_RNA', 'nFeature_RNA', 'type', 'percent.mt', 'percent.ribo', 'RNA_snn_res.0.6', 'seurat_clusters', 'integrated_snn_res.0.5', 'integrated_snn_res.0.6', 'cell_subtype', 'cell_type', 'celltype.stim'\n",
      "    var: 'features'\n",
      "    uns: 'neighbors'\n",
      "    obsm: 'X_pca', 'X_tsne', 'X_umap'\n",
      "    varm: 'PCs'\n",
      "    obsp: 'distances'\n"
     ]
    },
    {
     "name": "stderr",
     "output_type": "stream",
     "text": [
      "/Users/helloworld/miniconda3/envs/scanpy/lib/python3.11/site-packages/anndata/compat/__init__.py:363: FutureWarning: Moving element from .uns['neighbors']['distances'] to .obsp['distances'].\n",
      "\n",
      "This is where adjacency matrices should go now.\n",
      "  warn(\n"
     ]
    }
   ],
   "source": [
    "adata = sc.read_h5ad(\"data/lmna_inhouse.h5ad\")\n",
    "print(adata)"
   ]
  },
  {
   "cell_type": "code",
   "execution_count": null,
   "metadata": {},
   "outputs": [],
   "source": []
  }
 ],
 "metadata": {
  "kernelspec": {
   "display_name": "scanpy",
   "language": "python",
   "name": "python3"
  },
  "language_info": {
   "codemirror_mode": {
    "name": "ipython",
    "version": 3
   },
   "file_extension": ".py",
   "mimetype": "text/x-python",
   "name": "python",
   "nbconvert_exporter": "python",
   "pygments_lexer": "ipython3",
   "version": "3.11.8"
  }
 },
 "nbformat": 4,
 "nbformat_minor": 2
}
